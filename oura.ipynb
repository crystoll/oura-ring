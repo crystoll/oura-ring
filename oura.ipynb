{
 "cells": [
  {
   "cell_type": "markdown",
   "metadata": {},
   "source": [
    "# Exploring Oura ring data"
   ]
  },
  {
   "cell_type": "code",
   "execution_count": 14,
   "metadata": {},
   "outputs": [],
   "source": [
    "#%pip install pandas mlplot\n",
    "\n",
    "import json\n",
    "import pandas as pd\n",
    "import matplotlib.pyplot as plt\n",
    "import matplotlib.ticker as ticker\n",
    "from matplotlib.pyplot import figure\n",
    "from matplotlib.dates import DateFormatter\n"
   ]
  },
  {
   "cell_type": "markdown",
   "metadata": {},
   "source": [
    "## First, let's grab data from local json file, using only sleep data"
   ]
  },
  {
   "cell_type": "code",
   "execution_count": 2,
   "metadata": {},
   "outputs": [],
   "source": [
    "def grab_oura_json(file_path):    \n",
    "    with open(file_path) as activities_file:\n",
    "        data = json.load(activities_file)\n",
    "        return data\n",
    "\n",
    "file_path = 'data/oura_activities.json'\n",
    "data = grab_oura_json(file_path)\n",
    "# activity, notes, readiness, restful_periods, sleep    \n",
    "df = pd.DataFrame.from_dict(data['sleep'])\n",
    "#sleep_df.info()\n",
    "#sleep_df.head()\n",
    "#sleep_df.describe()"
   ]
  },
  {
   "cell_type": "markdown",
   "metadata": {},
   "source": [
    "## Now, let's build an index of bedtime_end date components"
   ]
  },
  {
   "cell_type": "code",
   "execution_count": 3,
   "metadata": {},
   "outputs": [
    {
     "name": "stdout",
     "output_type": "stream",
     "text": [
      "<class 'pandas.core.frame.DataFrame'>\n",
      "RangeIndex: 471 entries, 0 to 470\n",
      "Data columns (total 38 columns):\n",
      " #   Column                       Non-Null Count  Dtype              \n",
      "---  ------                       --------------  -----              \n",
      " 0   awake                        471 non-null    int64              \n",
      " 1   bedtime_end                  471 non-null    object             \n",
      " 2   bedtime_end_delta            471 non-null    int64              \n",
      " 3   bedtime_start                471 non-null    object             \n",
      " 4   bedtime_start_delta          471 non-null    int64              \n",
      " 5   breath_average               471 non-null    float64            \n",
      " 6   deep                         471 non-null    int64              \n",
      " 7   duration                     471 non-null    int64              \n",
      " 8   efficiency                   471 non-null    int64              \n",
      " 9   hr_5min                      471 non-null    object             \n",
      " 10  hr_average                   471 non-null    float64            \n",
      " 11  hr_lowest                    471 non-null    float64            \n",
      " 12  hypnogram_5min               471 non-null    object             \n",
      " 13  is_longest                   471 non-null    int64              \n",
      " 14  light                        471 non-null    int64              \n",
      " 15  midpoint_at_delta            471 non-null    int64              \n",
      " 16  midpoint_time                471 non-null    int64              \n",
      " 17  onset_latency                471 non-null    int64              \n",
      " 18  period_id                    471 non-null    int64              \n",
      " 19  rem                          471 non-null    int64              \n",
      " 20  restless                     471 non-null    int64              \n",
      " 21  rmssd                        471 non-null    int64              \n",
      " 22  rmssd_5min                   471 non-null    object             \n",
      " 23  score                        471 non-null    int64              \n",
      " 24  score_alignment              471 non-null    int64              \n",
      " 25  score_deep                   471 non-null    int64              \n",
      " 26  score_disturbances           471 non-null    int64              \n",
      " 27  score_efficiency             471 non-null    int64              \n",
      " 28  score_latency                471 non-null    int64              \n",
      " 29  score_rem                    471 non-null    int64              \n",
      " 30  score_total                  471 non-null    int64              \n",
      " 31  summary_date                 471 non-null    object             \n",
      " 32  temperature_delta            471 non-null    float64            \n",
      " 33  temperature_deviation        471 non-null    float64            \n",
      " 34  timezone                     471 non-null    int64              \n",
      " 35  total                        471 non-null    int64              \n",
      " 36  temperature_trend_deviation  467 non-null    float64            \n",
      " 37  datetime                     471 non-null    datetime64[ns, UTC]\n",
      "dtypes: datetime64[ns, UTC](1), float64(6), int64(25), object(6)\n",
      "memory usage: 140.0+ KB\n"
     ]
    }
   ],
   "source": [
    "df['datetime'] = pd.to_datetime(df['bedtime_end'], utc=True).dt.normalize()\n",
    "df.set_index('datetime')\n",
    "df.info()"
   ]
  },
  {
   "cell_type": "markdown",
   "metadata": {},
   "source": [
    "# Time to plot some sleep metrics over timeline"
   ]
  },
  {
   "cell_type": "code",
   "execution_count": 28,
   "metadata": {},
   "outputs": [
    {
     "data": {
      "image/png": "[encoded data removed]",
      "text/plain": [
       "<Figure size 1440x216 with 1 Axes>"
      ]
     },
     "metadata": {
      "needs_background": "light"
     },
     "output_type": "display_data"
    }
   ],
   "source": [
    "\n",
    "# duration, awake, rem, light, deep\n",
    "# hr_lowest, hr_average, hr_5min\n",
    "# efficiency, onset_latency, midpoint_time, restless\n",
    "# temperature_delta, breath_average\n",
    "# score, score_total, score_rem, score_deep, score_efficiency, score_latency, score_disturbances, score_alignment\n",
    "# rmssd, rmssd_5min\n",
    "df['duration_hours']=df['duration']/3600 # Convert seconds to hours\n",
    "df = df.tail(100) # Grab 100 recent dates\n",
    "\n",
    "plt.rcParams[\"figure.figsize\"] = (20,3)\n",
    "fig, ax = plt.subplots()\n",
    "plt.bar(\"datetime\", \"duration_hours\", data=df, axes=ax) \n",
    "dfmt = DateFormatter(\"%Y-%m-%d\")\n",
    "ax.xaxis.set_major_formatter(dfmt)\n",
    "ax.set_ylabel(\"Sleep Duration Hours\")\n",
    "plt.xticks(rotation=90) \n",
    "plt.show()\n",
    "\n"
   ]
  },
  {
   "cell_type": "code",
   "execution_count": null,
   "metadata": {},
   "outputs": [],
   "source": []
  }
 ],
 "metadata": {
  "interpreter": {
   "hash": "f3f3fae7483818947ed9da2c990f7176dcea369a164f1214dab5ff1ab7a877cd"
  },
  "kernelspec": {
   "display_name": "Python 3 (ipykernel)",
   "language": "python",
   "name": "python3"
  },
  "language_info": {
   "codemirror_mode": {
    "name": "ipython",
    "version": 3
   },
   "file_extension": ".py",
   "mimetype": "text/x-python",
   "name": "python",
   "nbconvert_exporter": "python",
   "pygments_lexer": "ipython3",
   "version": "3.10.0"
  }
 },
 "nbformat": 4,
 "nbformat_minor": 4
}
