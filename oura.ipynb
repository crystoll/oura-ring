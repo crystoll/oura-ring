{
 "cells": [
  {
   "cell_type": "markdown",
   "metadata": {},
   "source": [
    "# Exploring Oura ring data"
   ]
  },
  {
   "cell_type": "code",
   "execution_count": 1,
   "metadata": {},
   "outputs": [],
   "source": [
    "#%pip install pandas mlplot\n",
    "\n",
    "import json\n",
    "import pandas as pd\n",
    "import matplotlib.pyplot as plt\n",
    "import matplotlib.ticker as ticker\n",
    "from matplotlib.pyplot import figure\n",
    "from matplotlib.dates import DateFormatter\n"
   ]
  },
  {
   "cell_type": "markdown",
   "metadata": {},
   "source": [
    "## First, let's grab data from local json file, using only sleep data"
   ]
  },
  {
   "cell_type": "code",
   "execution_count": 2,
   "metadata": {},
   "outputs": [],
   "source": [
    "def grab_oura_json(file_path):    \n",
    "    with open(file_path) as activities_file:\n",
    "        data = json.load(activities_file)\n",
    "        return data\n",
    "\n",
    "file_path = 'data/oura_activities.json'\n",
    "data = grab_oura_json(file_path)\n",
    "# activity, notes, readiness, restful_periods, sleep    \n",
    "df = pd.DataFrame.from_dict(data['sleep'])\n",
    "#df.info()\n",
    "#df.head()\n",
    "#df.describe()\n",
    "#df['bedtime_end']"
   ]
  },
  {
   "cell_type": "markdown",
   "metadata": {},
   "source": [
    "## Now, let's build an index of bedtime_end date components"
   ]
  },
  {
   "cell_type": "code",
   "execution_count": 3,
   "metadata": {},
   "outputs": [
    {
     "name": "stdout",
     "output_type": "stream",
     "text": [
      "<class 'pandas.core.frame.DataFrame'>\n",
      "DatetimeIndex: 471 entries, 2020-08-19 to 2022-01-07\n",
      "Data columns (total 39 columns):\n",
      " #   Column                       Non-Null Count  Dtype              \n",
      "---  ------                       --------------  -----              \n",
      " 0   awake                        471 non-null    int64              \n",
      " 1   bedtime_end                  471 non-null    object             \n",
      " 2   bedtime_end_delta            471 non-null    int64              \n",
      " 3   bedtime_start                471 non-null    object             \n",
      " 4   bedtime_start_delta          471 non-null    int64              \n",
      " 5   breath_average               471 non-null    float64            \n",
      " 6   deep                         471 non-null    int64              \n",
      " 7   duration                     471 non-null    int64              \n",
      " 8   efficiency                   471 non-null    int64              \n",
      " 9   hr_5min                      471 non-null    object             \n",
      " 10  hr_average                   471 non-null    float64            \n",
      " 11  hr_lowest                    471 non-null    float64            \n",
      " 12  hypnogram_5min               471 non-null    object             \n",
      " 13  is_longest                   471 non-null    int64              \n",
      " 14  light                        471 non-null    int64              \n",
      " 15  midpoint_at_delta            471 non-null    int64              \n",
      " 16  midpoint_time                471 non-null    int64              \n",
      " 17  onset_latency                471 non-null    int64              \n",
      " 18  period_id                    471 non-null    int64              \n",
      " 19  rem                          471 non-null    int64              \n",
      " 20  restless                     471 non-null    int64              \n",
      " 21  rmssd                        471 non-null    int64              \n",
      " 22  rmssd_5min                   471 non-null    object             \n",
      " 23  score                        471 non-null    int64              \n",
      " 24  score_alignment              471 non-null    int64              \n",
      " 25  score_deep                   471 non-null    int64              \n",
      " 26  score_disturbances           471 non-null    int64              \n",
      " 27  score_efficiency             471 non-null    int64              \n",
      " 28  score_latency                471 non-null    int64              \n",
      " 29  score_rem                    471 non-null    int64              \n",
      " 30  score_total                  471 non-null    int64              \n",
      " 31  summary_date                 471 non-null    object             \n",
      " 32  temperature_delta            471 non-null    float64            \n",
      " 33  temperature_deviation        471 non-null    float64            \n",
      " 34  timezone                     471 non-null    int64              \n",
      " 35  total                        471 non-null    int64              \n",
      " 36  temperature_trend_deviation  467 non-null    float64            \n",
      " 37  datetime                     471 non-null    datetime64[ns, UTC]\n",
      " 38  weekday                      471 non-null    int64              \n",
      "dtypes: datetime64[ns, UTC](1), float64(6), int64(26), object(6)\n",
      "memory usage: 147.2+ KB\n"
     ]
    }
   ],
   "source": [
    "df['datetime'] = pd.to_datetime(df['bedtime_end'], utc=True).dt.normalize()\n",
    "df['weekday'] = df['datetime'].dt.dayofweek\n",
    "df['datetime_naive'] = df['datetime'].apply(lambda t: t.replace(tzinfo=None))\n",
    "df = df.set_index('datetime_naive')\n",
    "df.info()"
   ]
  },
  {
   "cell_type": "markdown",
   "metadata": {},
   "source": [
    "# Time to plot some sleep metrics over timeline"
   ]
  },
  {
   "cell_type": "code",
   "execution_count": 4,
   "metadata": {},
   "outputs": [
    {
     "data": {
      "image/png": "[encoded data removed]",
      "text/plain": [
       "<Figure size 1440x216 with 1 Axes>"
      ]
     },
     "metadata": {
      "needs_background": "light"
     },
     "output_type": "display_data"
    },
    {
     "data": {
      "image/png": "[encoded data removed]",
      "text/plain": [
       "<Figure size 1440x216 with 1 Axes>"
      ]
     },
     "metadata": {
      "needs_background": "light"
     },
     "output_type": "display_data"
    },
    {
     "data": {
      "image/png": "[encoded data removed]",
      "text/plain": [
       "<Figure size 1440x216 with 1 Axes>"
      ]
     },
     "metadata": {
      "needs_background": "light"
     },
     "output_type": "display_data"
    }
   ],
   "source": [
    "def plot_field(field_name, field_label):\n",
    "    plt.rcParams[\"figure.figsize\"] = (20,3)\n",
    "    fig, ax = plt.subplots()\n",
    "    plt.bar(df.index.values, field_name, data=df, axes=ax) \n",
    "    #plt.bar('datetime', field_name, data=df, axes=ax) \n",
    "    dfmt = DateFormatter(\"%Y-%m-%d\")\n",
    "    ax.xaxis.set_major_formatter(dfmt)\n",
    "    ax.xaxis.set_major_locator(ticker.MultipleLocator(5))\n",
    "    ax.set_ylabel(field_label)\n",
    "    plt.xticks(rotation=90) \n",
    "    plt.show()\n",
    "\n",
    "\n",
    "    \n",
    "df = df.tail(90) # Grab 90 recent dates\n",
    "\n",
    "\n",
    "# duration, awake, rem, light, deep\n",
    "# hr_lowest, hr_average, hr_5min\n",
    "# efficiency, onset_latency, midpoint_time, restless\n",
    "# temperature_delta, breath_average\n",
    "# score, score_total, score_rem, score_deep, score_efficiency, score_latency, score_disturbances, score_alignment\n",
    "# rmssd, rmssd_5min\n",
    "df['duration_hours']=df['duration']/3600 # Convert seconds to hours\n",
    "plot_field('duration_hours','Sleep Duration Hours')\n",
    "\n",
    "df['deep_hours']=df['deep']/3600 # Convert seconds to hours\n",
    "plot_field('deep_hours','Deep Sleep Duration Hours')\n",
    "\n",
    "\n",
    "plot_field('temperature_delta','Temperature Variation')\n"
   ]
  },
  {
   "cell_type": "code",
   "execution_count": 8,
   "metadata": {},
   "outputs": [
    {
     "data": {
      "text/plain": [
       "awake                                                                       4380\n",
       "bedtime_end                                            2021-10-23T09:09:32+03:00\n",
       "bedtime_end_delta                                                          32972\n",
       "bedtime_start                                          2021-10-22T22:16:32+03:00\n",
       "bedtime_start_delta                                                        -6208\n",
       "breath_average                                                            13.625\n",
       "deep                                                                        7980\n",
       "duration                                                                   39180\n",
       "efficiency                                                                    89\n",
       "hr_5min                        [0, 62, 64, 67, 65, 63, 59, 59, 63, 66, 62, 60...\n",
       "hr_average                                                                  62.2\n",
       "hr_lowest                                                                   54.0\n",
       "hypnogram_5min                 4222422411221111114411112213344444422222211222...\n",
       "is_longest                                                                     1\n",
       "light                                                                      17460\n",
       "midpoint_at_delta                                                          14252\n",
       "midpoint_time                                                              20460\n",
       "onset_latency                                                                270\n",
       "period_id                                                                      0\n",
       "rem                                                                         9360\n",
       "restless                                                                      31\n",
       "rmssd                                                                         37\n",
       "rmssd_5min                     [0, 24, 32, 34, 37, 37, 33, 33, 42, 49, 41, 32...\n",
       "score                                                                         89\n",
       "score_alignment                                                               70\n",
       "score_deep                                                                    99\n",
       "score_disturbances                                                            69\n",
       "score_efficiency                                                              93\n",
       "score_latency                                                                 72\n",
       "score_rem                                                                    100\n",
       "score_total                                                                  100\n",
       "summary_date                                                          2021-10-23\n",
       "temperature_delta                                                           0.19\n",
       "temperature_deviation                                                       0.19\n",
       "timezone                                                                     180\n",
       "total                                                                      34800\n",
       "temperature_trend_deviation                                                 0.11\n",
       "datetime                                               2021-10-23 00:00:00+00:00\n",
       "weekday                                                                        5\n",
       "duration_hours                                                         10.883333\n",
       "deep_hours                                                              2.216667\n",
       "Name: 2021-10-23 00:00:00, dtype: object"
      ]
     },
     "execution_count": 8,
     "metadata": {},
     "output_type": "execute_result"
    }
   ],
   "source": [
    "#df.loc[pd.to_datetime('2021-11-05')]\n",
    "#df.loc[pd.to_datetime('2021-11-06')]\n",
    "df.loc[pd.to_datetime('2021-10-23')] # Weekdays 0 to 6, Monday to Sunday"
   ]
  }
 ],
 "metadata": {
  "interpreter": {
   "hash": "f3f3fae7483818947ed9da2c990f7176dcea369a164f1214dab5ff1ab7a877cd"
  },
  "kernelspec": {
   "display_name": "Python 3 (ipykernel)",
   "language": "python",
   "name": "python3"
  },
  "language_info": {
   "codemirror_mode": {
    "name": "ipython",
    "version": 3
   },
   "file_extension": ".py",
   "mimetype": "text/x-python",
   "name": "python",
   "nbconvert_exporter": "python",
   "pygments_lexer": "ipython3",
   "version": "3.10.0"
  }
 },
 "nbformat": 4,
 "nbformat_minor": 4
}
